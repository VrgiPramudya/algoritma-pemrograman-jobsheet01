{
  "nbformat": 4,
  "nbformat_minor": 0,
  "metadata": {
    "colab": {
      "provenance": [],
      "authorship_tag": "ABX9TyMeQgTgCiLqYOh9Qwwodon1",
      "include_colab_link": true
    },
    "kernelspec": {
      "name": "python3",
      "display_name": "Python 3"
    },
    "language_info": {
      "name": "python"
    }
  },
  "cells": [
    {
      "cell_type": "markdown",
      "metadata": {
        "id": "view-in-github",
        "colab_type": "text"
      },
      "source": [
        "<a href=\"https://colab.research.google.com/github/VrgiPramudya/algoritma-pemrograman-jobsheet01/blob/main/Galih_Virgi_Pramudya_Jobsheet_01.ipynb\" target=\"_parent\"><img src=\"https://colab.research.google.com/assets/colab-badge.svg\" alt=\"Open In Colab\"/></a>"
      ]
    },
    {
      "cell_type": "markdown",
      "source": [
        "#Praktikum 01. Menghitung Luas Persegi Panjang"
      ],
      "metadata": {
        "id": "EBbLeQDmQCkh"
      }
    },
    {
      "cell_type": "code",
      "execution_count": null,
      "metadata": {
        "colab": {
          "base_uri": "https://localhost:8080/"
        },
        "id": "wetz3vr8PC4D",
        "outputId": "82ea2dfa-5aab-40f0-88aa-b1a35e8188ea"
      },
      "outputs": [
        {
          "output_type": "stream",
          "name": "stdout",
          "text": [
            "Masukkan panjang: 10\n",
            "Masukkan lebar: 5\n",
            "Luas persegi panjang = 50\n"
          ]
        }
      ],
      "source": [
        "p = int(input(\"Masukkan panjang: \"))\n",
        "l = int(input(\"Masukkan lebar: \"))\n",
        "luas = p * l\n",
        "print(\"Luas persegi panjang =\", luas)"
      ]
    },
    {
      "cell_type": "markdown",
      "source": [
        "#Praktikum 02. Menghitung Luas Segitiga (Rumus Heron)"
      ],
      "metadata": {
        "id": "llldXUmzRWe1"
      }
    },
    {
      "cell_type": "code",
      "source": [
        "import math\n",
        "\n",
        "a = float(input(\"Masukkan sisi a: \"))\n",
        "b = float(input(\"Masukkan sisi b: \"))\n",
        "c = float(input(\"Masukkan sisi c: \"))\n",
        "\n",
        "s = (a + b + c) / 2\n",
        "luas = math.sqrt(s * (s - a)* (s - b) * (s - c))\n",
        "print(\"Luas segitiga =\", luas)\n"
      ],
      "metadata": {
        "colab": {
          "base_uri": "https://localhost:8080/"
        },
        "id": "EsWjQzQTQzBL",
        "outputId": "b6e81eaf-34d2-4aae-b34b-6587ab3ceec0"
      },
      "execution_count": null,
      "outputs": [
        {
          "output_type": "stream",
          "name": "stdout",
          "text": [
            "Masukkan sisi a: 3\n",
            "Masukkan sisi b: 4\n",
            "Masukkan sisi c: 5\n",
            "Luas segitiga = 6.0\n"
          ]
        }
      ]
    },
    {
      "cell_type": "markdown",
      "source": [
        "#Praktikum 03. Konversi Suhu Celcius ke Fahrenheit"
      ],
      "metadata": {
        "id": "cJJTNG54RlMf"
      }
    },
    {
      "cell_type": "code",
      "source": [
        "c = float(input(\"Masukkan suhu (°C): \"))\n",
        "f = (c * 9/5) + 32\n",
        "print(\"Hasil konversi =\", f, \"°F\")"
      ],
      "metadata": {
        "colab": {
          "base_uri": "https://localhost:8080/"
        },
        "id": "zw1Kj1GMTcBy",
        "outputId": "3b078bee-f89b-4bd7-8fa3-91c89a81673f"
      },
      "execution_count": null,
      "outputs": [
        {
          "output_type": "stream",
          "name": "stdout",
          "text": [
            "Masukkan suhu (°C): 80\n",
            "Hasil konversi = 176.0 °F\n"
          ]
        }
      ]
    },
    {
      "cell_type": "markdown",
      "source": [
        "#Praktikum 04. Menghitung Umur Berdasarkan Tahun Lahir"
      ],
      "metadata": {
        "id": "4Zq40l8_T546"
      }
    },
    {
      "cell_type": "code",
      "source": [
        "tahun_lahir = int(input(\"Masukkan tahun lahir: \"))\n",
        "tahun_sekarang = 2025\n",
        "umur = tahun_sekarang - tahun_lahir\n",
        "print(\"Umur anda =\", umur, \"tahun\")"
      ],
      "metadata": {
        "colab": {
          "base_uri": "https://localhost:8080/"
        },
        "id": "z2vcDzGcT1I4",
        "outputId": "ea01b967-ceec-42bf-e51d-89c3d7ff2964"
      },
      "execution_count": null,
      "outputs": [
        {
          "output_type": "stream",
          "name": "stdout",
          "text": [
            "Masukkan tahun lahir: 2007\n",
            "Umur anda = 18 tahun\n"
          ]
        }
      ]
    },
    {
      "cell_type": "markdown",
      "source": [
        "#Praktikum 05. Menghitung Luas Lingkaran"
      ],
      "metadata": {
        "id": "8NYN30xhUbWU"
      }
    },
    {
      "cell_type": "code",
      "source": [
        "import math\n",
        "r = float(input(\"Masukkan jari-jari lingkaran: \"))\n",
        "luas = math.pi * r * r\n",
        "print(\"Luas lingkaran =\", luas)"
      ],
      "metadata": {
        "colab": {
          "base_uri": "https://localhost:8080/"
        },
        "id": "sXeprjzzUJuU",
        "outputId": "9af7e9a6-899f-482b-b83a-30031a1ff9dc"
      },
      "execution_count": null,
      "outputs": [
        {
          "output_type": "stream",
          "name": "stdout",
          "text": [
            "Masukkan jari-jari lingkaran: 7\n",
            "Luas lingkaran = 153.93804002589985\n"
          ]
        }
      ]
    },
    {
      "cell_type": "markdown",
      "source": [
        "#Praktikum 06. Menambahkan Tiga Bilangan"
      ],
      "metadata": {
        "id": "B5DREpBVU3qL"
      }
    },
    {
      "cell_type": "code",
      "source": [
        "a = int(input(\"Masukkan bilangan pertama: \"))\n",
        "b = int(input(\"Masukkan bilangan kedua: \"))\n",
        "c = int(input(\"Masukkan bilangan ketiga: \"))\n",
        "jumlah = a + b + c\n",
        "print(\"Jumlah =\", jumlah)"
      ],
      "metadata": {
        "colab": {
          "base_uri": "https://localhost:8080/"
        },
        "id": "iECGkhqzUwy6",
        "outputId": "e0cac112-e759-4302-8ead-8f169fd00fc1"
      },
      "execution_count": null,
      "outputs": [
        {
          "output_type": "stream",
          "name": "stdout",
          "text": [
            "Masukkan bilangan pertama: 5\n",
            "Masukkan bilangan kedua: 7\n",
            "Masukkan bilangan ketiga: 8\n",
            "Jumlah = 20\n"
          ]
        }
      ]
    },
    {
      "cell_type": "markdown",
      "source": [
        "#Penugasan No.3 Menghitung Volume Balok"
      ],
      "metadata": {
        "id": "RdnKr3EKWDDl"
      }
    },
    {
      "cell_type": "code",
      "source": [
        "p = int(input(\"Masukkan panjang: \"))\n",
        "l = int(input(\"Masukkan lebar: \"))\n",
        "t = int(input(\"Masukkan tinggi: \"))\n",
        "v = p * l * t\n",
        "print(\"Volume balok =\", v)"
      ],
      "metadata": {
        "colab": {
          "base_uri": "https://localhost:8080/"
        },
        "id": "mVdKpz1YVwwO",
        "outputId": "3d02d23a-dc7d-459a-aec4-b13d7b2b9784"
      },
      "execution_count": null,
      "outputs": [
        {
          "output_type": "stream",
          "name": "stdout",
          "text": [
            "Masukkan panjang: 10\n",
            "Masukkan lebar: 5\n",
            "Masukkan tinggi: 8\n",
            "Volume balok = 400\n"
          ]
        }
      ]
    },
    {
      "cell_type": "markdown",
      "source": [
        "#Penugasan No.4 Konversi Waktu (Detik ke Jam : Menit : Detik)"
      ],
      "metadata": {
        "id": "zga5ZYWkWxxI"
      }
    },
    {
      "cell_type": "code",
      "source": [
        "detik = int(input(\"Masukkan jumlah detik: \"))\n",
        "\n",
        "jam = detik // 3600\n",
        "sisa = detik % 3600\n",
        "menit = sisa // 60\n",
        "detik_sisa = sisa % 60\n",
        "\n",
        "print(jam, \"jam\", menit, \"menit\", detik_sisa, \"detik\")"
      ],
      "metadata": {
        "colab": {
          "base_uri": "https://localhost:8080/"
        },
        "id": "tcTYHVUsWtGd",
        "outputId": "a1a5ae54-64c5-4534-be5a-e556821043c5"
      },
      "execution_count": null,
      "outputs": [
        {
          "output_type": "stream",
          "name": "stdout",
          "text": [
            "Masukkan jumlah detik: 3670\n",
            "1 jam 1 menit 10 detik\n"
          ]
        }
      ]
    },
    {
      "cell_type": "markdown",
      "source": [
        "#Penugasan No.5 Rata-rata Nilai Tiga Mata Kuliah"
      ],
      "metadata": {
        "id": "AMzD7uu-ZGAc"
      }
    },
    {
      "cell_type": "code",
      "source": [
        "nilai1 = float(input(\"Masukkan nilai mata kuliah 1: \"))\n",
        "nilai2 = float(input(\"Masukkan nilai mata kuliah 2: \"))\n",
        "nilai3 = float(input(\"Masukkan nilai mata kuliah 3: \"))\n",
        "\n",
        "rata_rata = (nilai1 + nilai2 + nilai3) / 3\n",
        "\n",
        "if rata_rata >= 60:\n",
        "  status = \"Lulus\"\n",
        "else:\n",
        "  status = \"Tidak Lulus\"\n",
        "\n",
        "print(\"Rata-rata nilai =\", rata_rata)\n",
        "print(\"Status =\", status)"
      ],
      "metadata": {
        "colab": {
          "base_uri": "https://localhost:8080/"
        },
        "id": "DL7NkQwIYCE4",
        "outputId": "8c736ad8-f933-4814-f6fc-40177a5bfc9a"
      },
      "execution_count": null,
      "outputs": [
        {
          "output_type": "stream",
          "name": "stdout",
          "text": [
            "Masukkan nilai mata kuliah 1: 80\n",
            "Masukkan nilai mata kuliah 2: 70\n",
            "Masukkan nilai mata kuliah 3: 90\n",
            "Rata-rata nilai = 80.0\n",
            "Status = Lulus\n"
          ]
        }
      ]
    },
    {
      "cell_type": "markdown",
      "source": [
        "#Penugasan No.6 Menghitung Diskon Belanja"
      ],
      "metadata": {
        "id": "HNwlwcI1aXBy"
      }
    },
    {
      "cell_type": "code",
      "source": [
        "belanja = float(input(\"Masukkan total belanja: \"))\n",
        "\n",
        "if belanja >= 500000:\n",
        "  diskon = 0.20\n",
        "elif belanja >= 250000:\n",
        "  diskon = 0.10\n",
        "else:\n",
        "  diskon = 0.0\n",
        "\n",
        "potongan = belanja * diskon\n",
        "total_bayar = belanja - potongan\n",
        "\n",
        "print(\"Total bayar = Rp.\", total_bayar)"
      ],
      "metadata": {
        "colab": {
          "base_uri": "https://localhost:8080/"
        },
        "id": "Dv1Yh6e0aPKW",
        "outputId": "e5de63b8-ede2-41f2-ed32-2ff3a80ad6a4"
      },
      "execution_count": null,
      "outputs": [
        {
          "output_type": "stream",
          "name": "stdout",
          "text": [
            "Masukkan total belanja: 1000000\n",
            "Total bayar = Rp. 800000.0\n"
          ]
        }
      ]
    }
  ]
}